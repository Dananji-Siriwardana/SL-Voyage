{
 "cells": [
  {
   "cell_type": "code",
   "execution_count": 1,
   "id": "1ffe1863",
   "metadata": {},
   "outputs": [
    {
     "name": "stderr",
     "output_type": "stream",
     "text": [
      "C:\\Users\\Dpsdp\\anaconda3\\lib\\site-packages\\pandas\\core\\arrays\\masked.py:60: UserWarning: Pandas requires version '1.3.6' or newer of 'bottleneck' (version '1.3.5' currently installed).\n",
      "  from pandas.core import (\n"
     ]
    }
   ],
   "source": [
    "import pandas as pd\n",
    "from sklearn.preprocessing import LabelEncoder\n",
    "from sklearn.model_selection import train_test_split\n",
    "from tensorflow.keras.models import Sequential\n",
    "from tensorflow.keras.layers import Dense, Dropout\n",
    "import tensorflow as tf\n",
    "import numpy as np"
   ]
  },
  {
   "cell_type": "code",
   "execution_count": 2,
   "id": "46c1aab0",
   "metadata": {},
   "outputs": [
    {
     "data": {
      "text/html": [
       "<div>\n",
       "<style scoped>\n",
       "    .dataframe tbody tr th:only-of-type {\n",
       "        vertical-align: middle;\n",
       "    }\n",
       "\n",
       "    .dataframe tbody tr th {\n",
       "        vertical-align: top;\n",
       "    }\n",
       "\n",
       "    .dataframe thead th {\n",
       "        text-align: right;\n",
       "    }\n",
       "</style>\n",
       "<table border=\"1\" class=\"dataframe\">\n",
       "  <thead>\n",
       "    <tr style=\"text-align: right;\">\n",
       "      <th></th>\n",
       "      <th>Name</th>\n",
       "      <th>Description</th>\n",
       "      <th>Type</th>\n",
       "      <th>Season</th>\n",
       "      <th>Location</th>\n",
       "    </tr>\n",
       "  </thead>\n",
       "  <tbody>\n",
       "    <tr>\n",
       "      <th>0</th>\n",
       "      <td>Arugam Bay Beach</td>\n",
       "      <td>Popular surf destination, known for its waves ...</td>\n",
       "      <td>beach</td>\n",
       "      <td>November-April</td>\n",
       "      <td>Eastern Province, Ampara District</td>\n",
       "    </tr>\n",
       "    <tr>\n",
       "      <th>1</th>\n",
       "      <td>Unawatuna Beach</td>\n",
       "      <td>Renowned for its golden sands and snorkeling o...</td>\n",
       "      <td>beach</td>\n",
       "      <td>November-April</td>\n",
       "      <td>Southern Province, Galle District</td>\n",
       "    </tr>\n",
       "    <tr>\n",
       "      <th>2</th>\n",
       "      <td>Hikkaduwa Beach</td>\n",
       "      <td>Vibrant coral reefs and nightlife make it a ho...</td>\n",
       "      <td>beach</td>\n",
       "      <td>November-April</td>\n",
       "      <td>Southern Province, Galle District</td>\n",
       "    </tr>\n",
       "    <tr>\n",
       "      <th>3</th>\n",
       "      <td>Ventura Beach</td>\n",
       "      <td>Calm waters ideal for families and water sports.</td>\n",
       "      <td>beach</td>\n",
       "      <td>November-April</td>\n",
       "      <td>Southern Province, Galle District</td>\n",
       "    </tr>\n",
       "    <tr>\n",
       "      <th>4</th>\n",
       "      <td>Mirissa Beach</td>\n",
       "      <td>Famous for whale watching and scenic beauty</td>\n",
       "      <td>beach</td>\n",
       "      <td>November-April</td>\n",
       "      <td>Southern Province, Matara District</td>\n",
       "    </tr>\n",
       "  </tbody>\n",
       "</table>\n",
       "</div>"
      ],
      "text/plain": [
       "               Name                                        Description   Type  \\\n",
       "0  Arugam Bay Beach  Popular surf destination, known for its waves ...  beach   \n",
       "1   Unawatuna Beach  Renowned for its golden sands and snorkeling o...  beach   \n",
       "2   Hikkaduwa Beach  Vibrant coral reefs and nightlife make it a ho...  beach   \n",
       "3     Ventura Beach   Calm waters ideal for families and water sports.  beach   \n",
       "4     Mirissa Beach        Famous for whale watching and scenic beauty  beach   \n",
       "\n",
       "           Season                            Location  \n",
       "0  November-April   Eastern Province, Ampara District  \n",
       "1  November-April   Southern Province, Galle District  \n",
       "2  November-April   Southern Province, Galle District  \n",
       "3  November-April   Southern Province, Galle District  \n",
       "4  November-April  Southern Province, Matara District  "
      ]
     },
     "execution_count": 2,
     "metadata": {},
     "output_type": "execute_result"
    }
   ],
   "source": [
    "data=pd.read_csv(\"rp_data.csv\")\n",
    "data.head(5)"
   ]
  },
  {
   "cell_type": "code",
   "execution_count": 3,
   "id": "c31f5fe2",
   "metadata": {},
   "outputs": [],
   "source": [
    "# Convert to DataFrame\n",
    "df = pd.DataFrame(data, columns=[\"Name\", \"Description\", \"Type\", \"Season\", \"Location\"])"
   ]
  },
  {
   "cell_type": "code",
   "execution_count": 4,
   "id": "be9ebc66",
   "metadata": {},
   "outputs": [],
   "source": [
    "# Encoding the Type and Season columns\n",
    "season_encoder = LabelEncoder()\n",
    "df['Season'] = season_encoder.fit_transform(df['Season'])\n",
    "\n",
    "type_encoder = LabelEncoder()\n",
    "df['Type'] = type_encoder.fit_transform(df['Type'])\n",
    "\n",
    "# Encoding Location\n",
    "location_encoder = LabelEncoder()\n",
    "df['Location'] = location_encoder.fit_transform(df['Location'])"
   ]
  },
  {
   "cell_type": "code",
   "execution_count": 5,
   "id": "ee698b8e",
   "metadata": {},
   "outputs": [],
   "source": [
    "# Features (input) and Target (output)\n",
    "X = df[['Season', 'Type']]  # Using season and type as inputs\n",
    "y = df[['Name', 'Location']]  # The output will be the Name and Location"
   ]
  },
  {
   "cell_type": "code",
   "execution_count": 6,
   "id": "511403ca",
   "metadata": {},
   "outputs": [],
   "source": [
    "# One-hot encoding for 'Name' and 'Location'\n",
    "name_encoder = LabelEncoder()\n",
    "df['Name'] = name_encoder.fit_transform(df['Name'])\n",
    "y = pd.get_dummies(y)  # One-hot encode Name and Location"
   ]
  },
  {
   "cell_type": "code",
   "execution_count": 7,
   "id": "54be89ad",
   "metadata": {},
   "outputs": [],
   "source": [
    "# Train-test split\n",
    "X_train, X_test, y_train, y_test = train_test_split(X, y, test_size=0.2, random_state=42)"
   ]
  },
  {
   "cell_type": "code",
   "execution_count": 8,
   "id": "dfb3dae6",
   "metadata": {},
   "outputs": [],
   "source": [
    "# Ensure inputs are in the correct dtype (float32) for training\n",
    "X_train = np.array(X_train, dtype=np.float32)\n",
    "X_test = np.array(X_test, dtype=np.float32)\n",
    "\n",
    "# Ensure targets are in the correct dtype (int32) for classification\n",
    "y_train = np.array(y_train, dtype=np.int32)\n",
    "y_test = np.array(y_test, dtype=np.int32)"
   ]
  },
  {
   "cell_type": "code",
   "execution_count": 9,
   "id": "37c8caa9",
   "metadata": {},
   "outputs": [
    {
     "name": "stderr",
     "output_type": "stream",
     "text": [
      "C:\\Users\\Dpsdp\\anaconda3\\lib\\site-packages\\keras\\src\\layers\\core\\dense.py:87: UserWarning: Do not pass an `input_shape`/`input_dim` argument to a layer. When using Sequential models, prefer using an `Input(shape)` object as the first layer in the model instead.\n",
      "  super().__init__(activity_regularizer=activity_regularizer, **kwargs)\n"
     ]
    }
   ],
   "source": [
    "# Build the deep learning model\n",
    "model = Sequential()\n",
    "model.add(Dense(64, input_dim=X_train.shape[1], activation='relu'))\n",
    "model.add(Dropout(0.2))\n",
    "model.add(Dense(32, activation='relu'))\n",
    "model.add(Dense(y_train.shape[1], activation='softmax'))"
   ]
  },
  {
   "cell_type": "code",
   "execution_count": 10,
   "id": "244bb822",
   "metadata": {},
   "outputs": [],
   "source": [
    "# Compile the model\n",
    "model.compile(loss='categorical_crossentropy', optimizer='adam', metrics=['accuracy'])"
   ]
  },
  {
   "cell_type": "code",
   "execution_count": 11,
   "id": "adb77d27",
   "metadata": {},
   "outputs": [
    {
     "name": "stdout",
     "output_type": "stream",
     "text": [
      "Epoch 1/10\n",
      "\u001b[1m2/2\u001b[0m \u001b[32m━━━━━━━━━━━━━━━━━━━━\u001b[0m\u001b[37m\u001b[0m \u001b[1m1s\u001b[0m 291ms/step - accuracy: 0.0000e+00 - loss: 48.5124 - val_accuracy: 0.0000e+00 - val_loss: 46.9539\n",
      "Epoch 2/10\n",
      "\u001b[1m2/2\u001b[0m \u001b[32m━━━━━━━━━━━━━━━━━━━━\u001b[0m\u001b[37m\u001b[0m \u001b[1m0s\u001b[0m 72ms/step - accuracy: 0.0000e+00 - loss: 47.2861 - val_accuracy: 0.0000e+00 - val_loss: 45.0531\n",
      "Epoch 3/10\n",
      "\u001b[1m2/2\u001b[0m \u001b[32m━━━━━━━━━━━━━━━━━━━━\u001b[0m\u001b[37m\u001b[0m \u001b[1m0s\u001b[0m 86ms/step - accuracy: 0.0000e+00 - loss: 47.2872 - val_accuracy: 0.0000e+00 - val_loss: 43.2857\n",
      "Epoch 4/10\n",
      "\u001b[1m2/2\u001b[0m \u001b[32m━━━━━━━━━━━━━━━━━━━━\u001b[0m\u001b[37m\u001b[0m \u001b[1m0s\u001b[0m 65ms/step - accuracy: 0.0000e+00 - loss: 44.2876 - val_accuracy: 0.0000e+00 - val_loss: 41.9786\n",
      "Epoch 5/10\n",
      "\u001b[1m2/2\u001b[0m \u001b[32m━━━━━━━━━━━━━━━━━━━━\u001b[0m\u001b[37m\u001b[0m \u001b[1m0s\u001b[0m 65ms/step - accuracy: 0.0000e+00 - loss: 43.6346 - val_accuracy: 0.0000e+00 - val_loss: 40.8882\n",
      "Epoch 6/10\n",
      "\u001b[1m2/2\u001b[0m \u001b[32m━━━━━━━━━━━━━━━━━━━━\u001b[0m\u001b[37m\u001b[0m \u001b[1m0s\u001b[0m 69ms/step - accuracy: 0.0159 - loss: 42.1976 - val_accuracy: 0.0000e+00 - val_loss: 39.7339\n",
      "Epoch 7/10\n",
      "\u001b[1m2/2\u001b[0m \u001b[32m━━━━━━━━━━━━━━━━━━━━\u001b[0m\u001b[37m\u001b[0m \u001b[1m0s\u001b[0m 67ms/step - accuracy: 0.0000e+00 - loss: 40.4871 - val_accuracy: 0.0000e+00 - val_loss: 38.5875\n",
      "Epoch 8/10\n",
      "\u001b[1m2/2\u001b[0m \u001b[32m━━━━━━━━━━━━━━━━━━━━\u001b[0m\u001b[37m\u001b[0m \u001b[1m0s\u001b[0m 65ms/step - accuracy: 0.0000e+00 - loss: 39.8426 - val_accuracy: 0.0909 - val_loss: 37.4590\n",
      "Epoch 9/10\n",
      "\u001b[1m2/2\u001b[0m \u001b[32m━━━━━━━━━━━━━━━━━━━━\u001b[0m\u001b[37m\u001b[0m \u001b[1m0s\u001b[0m 56ms/step - accuracy: 0.0843 - loss: 38.7806 - val_accuracy: 0.7273 - val_loss: 36.3272\n",
      "Epoch 10/10\n",
      "\u001b[1m2/2\u001b[0m \u001b[32m━━━━━━━━━━━━━━━━━━━━\u001b[0m\u001b[37m\u001b[0m \u001b[1m0s\u001b[0m 70ms/step - accuracy: 0.0526 - loss: 38.9575 - val_accuracy: 0.7273 - val_loss: 35.1774\n"
     ]
    },
    {
     "data": {
      "text/plain": [
       "<keras.src.callbacks.history.History at 0x1c5a8508d30>"
      ]
     },
     "execution_count": 11,
     "metadata": {},
     "output_type": "execute_result"
    }
   ],
   "source": [
    "# Train the model\n",
    "model.fit(X_train, y_train, epochs=10, batch_size=32, validation_data=(X_test, y_test))"
   ]
  },
  {
   "cell_type": "code",
   "execution_count": 12,
   "id": "5c47d716",
   "metadata": {},
   "outputs": [
    {
     "name": "stdout",
     "output_type": "stream",
     "text": [
      "\u001b[1m1/1\u001b[0m \u001b[32m━━━━━━━━━━━━━━━━━━━━\u001b[0m\u001b[37m\u001b[0m \u001b[1m0s\u001b[0m 42ms/step - accuracy: 0.7273 - loss: 35.1774\n",
      "Accuracy: 72.73%\n"
     ]
    }
   ],
   "source": [
    "# Evaluate the model\n",
    "accuracy = model.evaluate(X_test, y_test)\n",
    "print(f'Accuracy: {accuracy[1] * 100:.2f}%')"
   ]
  },
  {
   "cell_type": "markdown",
   "id": "f4c41dfe",
   "metadata": {},
   "source": [
    "###Checking reals"
   ]
  },
  {
   "cell_type": "code",
   "execution_count": 13,
   "id": "f30a6909",
   "metadata": {},
   "outputs": [],
   "source": [
    "# Step 1: Display available seasons\n",
    "def get_available_seasons():\n",
    "    return season_encoder.classes_\n"
   ]
  },
  {
   "cell_type": "code",
   "execution_count": 14,
   "id": "00a7fa5b",
   "metadata": {},
   "outputs": [],
   "source": [
    "# Step 2: Display available types based on selected seasons\n",
    "def get_matching_types(selected_seasons):\n",
    "    # Filter rows by selected seasons\n",
    "    selected_seasons_encoded = season_encoder.transform(selected_seasons)\n",
    "    filtered_data = df[df['Season'].isin(selected_seasons_encoded)]\n",
    "    return filtered_data['Type'].unique()"
   ]
  },
  {
   "cell_type": "code",
   "execution_count": 15,
   "id": "189a71a2",
   "metadata": {},
   "outputs": [],
   "source": [
    "# Step 3: Get recommendations based on selected seasons and types\n",
    "def recommend_places(selected_seasons, selected_types):\n",
    "    # Filter dataset by selected seasons and types\n",
    "    selected_seasons_encoded = season_encoder.transform(selected_seasons)\n",
    "    selected_types_encoded = type_encoder.transform(selected_types)\n",
    "    \n",
    "    # Filter the data based on user inputs\n",
    "    filtered_data = df[(df['Season'].isin(selected_seasons_encoded)) & \n",
    "                        (df['Type'].isin(selected_types_encoded))]\n",
    "    \n",
    "    # Make a copy of the filtered data for safe modifications\n",
    "    filtered_data_copy = filtered_data.copy()\n",
    "    \n",
    "    # Decode Name and Location columns back to their original values\n",
    "    filtered_data_copy['Name'] = name_encoder.inverse_transform(filtered_data_copy['Name'])\n",
    "    filtered_data_copy['Location'] = location_encoder.inverse_transform(filtered_data_copy['Location'])\n",
    "    \n",
    "    # Return the decoded recommendations\n",
    "    recommendations = filtered_data_copy[['Name', 'Location']]\n",
    "    \n",
    "    return recommendations"
   ]
  },
  {
   "cell_type": "code",
   "execution_count": 21,
   "id": "bc601556",
   "metadata": {},
   "outputs": [
    {
     "name": "stdout",
     "output_type": "stream",
     "text": [
      "Available Seasons:  ['Dry season' 'May-September' 'November-April' 'Year-round']\n",
      "Please select one or more seasons (comma separated): November-April\n",
      "Selected Seasons: ['November-April']\n",
      "Available Types based on selected seasons: ['beach']\n",
      "Please select one or more activity types (comma separated): beach\n",
      "Selected Types: ['beach']\n",
      "\n",
      "Recommended Places and Locations: \n",
      "               Name                                Location\n",
      "0  Arugam Bay Beach       Eastern Province, Ampara District\n",
      "1   Unawatuna Beach       Southern Province, Galle District\n",
      "2   Hikkaduwa Beach       Southern Province, Galle District\n",
      "3     Ventura Beach       Southern Province, Galle District\n",
      "4     Mirissa Beach      Southern Province, Matara District\n",
      "5    Nilaveli Beach  Eastern Province, Trincomalee District\n",
      "6      Jungle Beach       Southern Province, Galle District\n",
      "7  Hiriketiya Beach      Southern Province, Matara District\n",
      "8    Pasikuda Beach   Eastern Province, Batticaloa District\n",
      "9     Koggala Beach       Southern Province, Galle District\n"
     ]
    }
   ],
   "source": [
    "# Example of user input\n",
    "seasons = get_available_seasons()  # All available seasons\n",
    "print(\"Available Seasons: \", seasons)\n",
    "\n",
    "# Step 2: Ask the user to select one or more seasons\n",
    "selected_seasons_input = input(\"Please select one or more seasons (comma separated): \")\n",
    "selected_seasons = [season.strip() for season in selected_seasons_input.split(',')]\n",
    "\n",
    "# Validate selected seasons\n",
    "valid_seasons = [season for season in selected_seasons if season in seasons]\n",
    "if not valid_seasons:\n",
    "    print(\"Invalid seasons selected.\")\n",
    "else:\n",
    "    print(f\"Selected Seasons: {valid_seasons}\")\n",
    "    \n",
    "    # Step 3: Display activity types based on selected seasons\n",
    "    types = get_matching_types(valid_seasons)\n",
    "    decoded_types = type_encoder.inverse_transform(types)\n",
    "    print(f\"Available Types based on selected seasons: {decoded_types}\")\n",
    "    \n",
    "    # Step 4: Ask the user to select one or more types\n",
    "    selected_types_input = input(\"Please select one or more activity types (comma separated): \")\n",
    "    selected_types = [type.strip() for type in selected_types_input.split(',')]\n",
    "\n",
    "    # Validate selected types\n",
    "    valid_types = [type for type in selected_types if type in decoded_types]\n",
    "    if not valid_types:\n",
    "        print(\"Invalid activity types selected.\")\n",
    "    else:\n",
    "        print(f\"Selected Types: {valid_types}\")\n",
    "\n",
    "        # Step 5: Get recommendations based on selected seasons and types\n",
    "        recommendations = recommend_places(valid_seasons, valid_types)\n",
    "        print(\"\\nRecommended Places and Locations: \")\n",
    "        print(recommendations)\n"
   ]
  },
  {
   "cell_type": "code",
   "execution_count": 17,
   "id": "4fbc5204",
   "metadata": {},
   "outputs": [],
   "source": [
    "model.save('trec_model.keras')"
   ]
  },
  {
   "cell_type": "code",
   "execution_count": 18,
   "id": "5e0b9a4e",
   "metadata": {},
   "outputs": [],
   "source": [
    "from tensorflow.keras.models import load_model\n",
    "model = load_model('trec_model.keras')"
   ]
  },
  {
   "cell_type": "code",
   "execution_count": null,
   "id": "2c5b4083",
   "metadata": {},
   "outputs": [],
   "source": []
  }
 ],
 "metadata": {
  "kernelspec": {
   "display_name": "Python 3 (ipykernel)",
   "language": "python",
   "name": "python3"
  },
  "language_info": {
   "codemirror_mode": {
    "name": "ipython",
    "version": 3
   },
   "file_extension": ".py",
   "mimetype": "text/x-python",
   "name": "python",
   "nbconvert_exporter": "python",
   "pygments_lexer": "ipython3",
   "version": "3.10.9"
  }
 },
 "nbformat": 4,
 "nbformat_minor": 5
}
